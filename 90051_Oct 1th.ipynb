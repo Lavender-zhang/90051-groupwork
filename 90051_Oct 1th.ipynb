{
 "cells": [
  {
   "cell_type": "code",
   "execution_count": 15,
   "id": "7e0f2b17",
   "metadata": {},
   "outputs": [],
   "source": [
    "import torch, torch.nn as nn\n",
    "from torchvision import datasets, transforms\n",
    "from torch.utils.data import DataLoader\n",
    "import torchvision.models as tvm\n",
    "import timm\n",
    "import numpy as np\n",
    "from sklearn.linear_model import LogisticRegression\n",
    "from sklearn.metrics import accuracy_score\n",
    "\n",
    "device = \"cuda\" if torch.cuda.is_available() else \"cpu\""
   ]
  },
  {
   "cell_type": "code",
   "execution_count": 18,
   "id": "491bce89",
   "metadata": {},
   "outputs": [],
   "source": [
    "IMG = 224\n",
    "tfm = transforms.Compose([\n",
    "    transforms.Resize((IMG, IMG)),\n",
    "    transforms.ToTensor(),\n",
    "    transforms.Normalize([0.485,0.456,0.406],[0.229,0.224,0.225]),\n",
    "])"
   ]
  },
  {
   "cell_type": "code",
   "execution_count": null,
   "id": "485e91f5",
   "metadata": {},
   "outputs": [],
   "source": [
    "#loading the dataset"
   ]
  },
  {
   "cell_type": "code",
   "execution_count": 21,
   "id": "f902cf40",
   "metadata": {},
   "outputs": [],
   "source": [
    "train_ds = datasets.ImageFolder(\"/Users/zhang/Desktop/slides/COMP90051/group work/archive/raw\", transform=tfm)\n",
    "train_dl = DataLoader(train_ds, batch_size=64, shuffle=False, num_workers=4)"
   ]
  },
  {
   "cell_type": "code",
   "execution_count": 22,
   "id": "95c8f52c",
   "metadata": {},
   "outputs": [
    {
     "name": "stdout",
     "output_type": "stream",
     "text": [
      "class name: ['cane', 'cavallo', 'elefante', 'farfalla', 'gallina', 'gatto', 'mucca', 'pecora', 'ragno', 'scoiattolo']\n",
      "calss to index: {'cane': 0, 'cavallo': 1, 'elefante': 2, 'farfalla': 3, 'gallina': 4, 'gatto': 5, 'mucca': 6, 'pecora': 7, 'ragno': 8, 'scoiattolo': 9}\n"
     ]
    }
   ],
   "source": [
    "print(\"class name:\", train_ds.classes)         \n",
    "print(\"calss to index:\", train_ds.class_to_idx)"
   ]
  },
  {
   "cell_type": "code",
   "execution_count": 29,
   "id": "f14afa3f",
   "metadata": {},
   "outputs": [
    {
     "name": "stdout",
     "output_type": "stream",
     "text": [
      "共发现类别： ['cane', 'cavallo', 'elefante', 'farfalla', 'gallina', 'gatto', 'mucca', 'pecora', 'ragno', 'scoiattolo']\n",
      "        cane -> train:3404  val:729  test:730\n",
      "     cavallo -> train:1836  val:393  test:394\n",
      "    elefante -> train:1012  val:217  test:217\n",
      "    farfalla -> train:1478  val:317  test:317\n",
      "     gallina -> train:2168  val:465  test:465\n",
      "       gatto -> train:1167  val:250  test:251\n",
      "       mucca -> train:1306  val:280  test:280\n",
      "      pecora -> train:1273  val:273  test:274\n",
      "       ragno -> train:3374  val:723  test:724\n",
      "  scoiattolo -> train:1303  val:279  test:280\n",
      "\n",
      "完成！输出目录： /Users/zhang/Desktop/slides/COMP90051/group work/archive/split\n"
     ]
    }
   ],
   "source": [
    "#change the whole dataset into training, val, test datasets as ratio 0.7:0.15:0.15\n",
    "import os, random, shutil\n",
    "from pathlib import Path\n",
    "from sklearn.model_selection import train_test_split\n",
    "\n",
    "\n",
    "SRC_DIR = Path(\"/Users/zhang/Desktop/slides/COMP90051/group work/archive/raw\") \n",
    "OUT_DIR = Path(\"/Users/zhang/Desktop/slides/COMP90051/group work/archive/split\")\n",
    "SPLIT = (0.7, 0.15, 0.15)   \n",
    "SEED = 42\n",
    "COPY_MODE = \"copy\"        \n",
    "\n",
    "IMG_EXTS = {\".jpg\", \".jpeg\", \".png\", \".bmp\", \".tif\", \".tiff\", \".webp\"}\n",
    "\n",
    "random.seed(SEED)\n",
    "OUT_DIR.mkdir(parents=True, exist_ok=True)\n",
    "\n",
    "def safe_copy(src: Path, dst: Path, mode=\"copy\"):\n",
    "    dst.parent.mkdir(parents=True, exist_ok=True)\n",
    "    if mode == \"copy\":\n",
    "        shutil.copy2(src, dst)\n",
    "    elif mode == \"move\":\n",
    "        shutil.move(str(src), str(dst))\n",
    "    elif mode == \"link\":\n",
    "        if dst.exists(): return\n",
    "        os.symlink(src.resolve(), dst)\n",
    "    else:\n",
    "        raise ValueError(\"COPY_MODE must be copy/move/link\")\n",
    "\n",
    "\n",
    "train_r, val_r, test_r = SPLIT\n",
    "assert abs(train_r + val_r + test_r - 1.0) < 1e-6\n",
    "\n",
    "class_names = sorted([d.name for d in SRC_DIR.iterdir() if d.is_dir()])\n",
    "print(\"共发现类别：\", class_names)\n",
    "\n",
    "for cls in class_names:\n",
    "    files = [p for p in (SRC_DIR/cls).iterdir() if p.suffix.lower() in IMG_EXTS]\n",
    "    files = sorted(files)\n",
    "    if len(files) == 0:\n",
    "        print(f\"[WARN] 类别 {cls} 没有图片，跳过\")\n",
    "        continue\n",
    "\n",
    "\n",
    "    train_files, temp_files = train_test_split(\n",
    "        files, test_size=(1 - train_r), random_state=SEED, shuffle=True, stratify=None\n",
    "    )\n",
    "\n",
    "    val_size = val_r / (val_r + test_r)\n",
    "    val_files, test_files = train_test_split(\n",
    "        temp_files, test_size=(1 - val_size), random_state=SEED, shuffle=True, stratify=None\n",
    "    )\n",
    "\n",
    "\n",
    "    for p in train_files:\n",
    "        safe_copy(p, OUT_DIR/\"train\"/cls/p.name, COPY_MODE)\n",
    "    for p in val_files:\n",
    "        safe_copy(p, OUT_DIR/\"val\"/cls/p.name, COPY_MODE)\n",
    "    for p in test_files:\n",
    "        safe_copy(p, OUT_DIR/\"test\"/cls/p.name, COPY_MODE)\n",
    "\n",
    "    print(f\"{cls:>12s} -> train:{len(train_files)}  val:{len(val_files)}  test:{len(test_files)}\")\n",
    "\n",
    "print(\"\\n完成！输出目录：\", OUT_DIR)\n"
   ]
  },
  {
   "cell_type": "code",
   "execution_count": 31,
   "id": "4b497285",
   "metadata": {},
   "outputs": [],
   "source": [
    "#loading the training, test val datasets\n",
    "train_ds = datasets.ImageFolder(\"/Users/zhang/Desktop/slides/COMP90051/group work/archive/split/train\", transform=tfm)\n",
    "test_ds = datasets.ImageFolder(\"/Users/zhang/Desktop/slides/COMP90051/group work/archive/split/test\", transform=tfm)\n",
    "val_ds = datasets.ImageFolder(\"/Users/zhang/Desktop/slides/COMP90051/group work/archive/split/val\", transform=tfm)\n",
    "\n",
    "train_dl = DataLoader(train_ds, batch_size=64, shuffle=False, num_workers=4)\n",
    "test_dl = DataLoader(test_ds, batch_size=64, shuffle=False, num_workers=4)\n",
    "val_dl = DataLoader(val_ds, batch_size=64, shuffle=False, num_workers=4)"
   ]
  },
  {
   "cell_type": "code",
   "execution_count": 32,
   "id": "f57c630a",
   "metadata": {},
   "outputs": [
    {
     "name": "stdout",
     "output_type": "stream",
     "text": [
      "Train classes: ['cane', 'cavallo', 'elefante', 'farfalla', 'gallina', 'gatto', 'mucca', 'pecora', 'ragno', 'scoiattolo']\n",
      "Number of classes: 10\n",
      "Train samples: 18321\n",
      "Val samples: 3926\n",
      "Test samples: 3932\n"
     ]
    }
   ],
   "source": [
    "#check and summarise\n",
    "print(\"Train classes:\", train_ds.classes)\n",
    "print(\"Number of classes:\", len(train_ds.classes))\n",
    "print(\"Train samples:\", len(train_ds))\n",
    "print(\"Val samples:\", len(val_ds))\n",
    "print(\"Test samples:\", len(test_ds))"
   ]
  },
  {
   "cell_type": "code",
   "execution_count": null,
   "id": "8d6d867d",
   "metadata": {},
   "outputs": [],
   "source": []
  }
 ],
 "metadata": {
  "kernelspec": {
   "display_name": "Python 3 (ipykernel)",
   "language": "python",
   "name": "python3"
  },
  "language_info": {
   "codemirror_mode": {
    "name": "ipython",
    "version": 3
   },
   "file_extension": ".py",
   "mimetype": "text/x-python",
   "name": "python",
   "nbconvert_exporter": "python",
   "pygments_lexer": "ipython3",
   "version": "3.9.7"
  }
 },
 "nbformat": 4,
 "nbformat_minor": 5
}
